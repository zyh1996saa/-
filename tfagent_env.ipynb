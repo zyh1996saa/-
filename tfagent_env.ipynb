{
  "nbformat": 4,
  "nbformat_minor": 0,
  "metadata": {
    "colab": {
      "name": "tfagent_env.ipynb",
      "provenance": [],
      "authorship_tag": "ABX9TyPDnwcx0xZZl2KN7AyIFQDq",
      "include_colab_link": true
    },
    "kernelspec": {
      "name": "python3",
      "display_name": "Python 3"
    },
    "language_info": {
      "name": "python"
    }
  },
  "cells": [
    {
      "cell_type": "markdown",
      "metadata": {
        "id": "view-in-github",
        "colab_type": "text"
      },
      "source": [
        "<a href=\"https://colab.research.google.com/github/zyh1996saa/-/blob/main/tfagent_env.ipynb\" target=\"_parent\"><img src=\"https://colab.research.google.com/assets/colab-badge.svg\" alt=\"Open In Colab\"/></a>"
      ]
    },
    {
      "cell_type": "code",
      "metadata": {
        "colab": {
          "base_uri": "https://localhost:8080/"
        },
        "id": "OU9UwcKPY92h",
        "outputId": "ad0d7687-7621-4734-c5e5-b31f9dff8277"
      },
      "source": [
        "!pip install tf-agents"
      ],
      "execution_count": 1,
      "outputs": [
        {
          "output_type": "stream",
          "name": "stdout",
          "text": [
            "Collecting tf-agents\n",
            "  Downloading tf_agents-0.10.0-py3-none-any.whl (1.3 MB)\n",
            "\u001b[?25l\r\u001b[K     |▎                               | 10 kB 21.8 MB/s eta 0:00:01\r\u001b[K     |▌                               | 20 kB 26.7 MB/s eta 0:00:01\r\u001b[K     |▊                               | 30 kB 14.2 MB/s eta 0:00:01\r\u001b[K     |█                               | 40 kB 6.1 MB/s eta 0:00:01\r\u001b[K     |█▎                              | 51 kB 6.9 MB/s eta 0:00:01\r\u001b[K     |█▌                              | 61 kB 7.2 MB/s eta 0:00:01\r\u001b[K     |█▉                              | 71 kB 6.5 MB/s eta 0:00:01\r\u001b[K     |██                              | 81 kB 7.3 MB/s eta 0:00:01\r\u001b[K     |██▎                             | 92 kB 6.1 MB/s eta 0:00:01\r\u001b[K     |██▌                             | 102 kB 6.6 MB/s eta 0:00:01\r\u001b[K     |██▉                             | 112 kB 6.6 MB/s eta 0:00:01\r\u001b[K     |███                             | 122 kB 6.6 MB/s eta 0:00:01\r\u001b[K     |███▎                            | 133 kB 6.6 MB/s eta 0:00:01\r\u001b[K     |███▋                            | 143 kB 6.6 MB/s eta 0:00:01\r\u001b[K     |███▉                            | 153 kB 6.6 MB/s eta 0:00:01\r\u001b[K     |████                            | 163 kB 6.6 MB/s eta 0:00:01\r\u001b[K     |████▎                           | 174 kB 6.6 MB/s eta 0:00:01\r\u001b[K     |████▋                           | 184 kB 6.6 MB/s eta 0:00:01\r\u001b[K     |████▉                           | 194 kB 6.6 MB/s eta 0:00:01\r\u001b[K     |█████                           | 204 kB 6.6 MB/s eta 0:00:01\r\u001b[K     |█████▍                          | 215 kB 6.6 MB/s eta 0:00:01\r\u001b[K     |█████▋                          | 225 kB 6.6 MB/s eta 0:00:01\r\u001b[K     |█████▉                          | 235 kB 6.6 MB/s eta 0:00:01\r\u001b[K     |██████                          | 245 kB 6.6 MB/s eta 0:00:01\r\u001b[K     |██████▍                         | 256 kB 6.6 MB/s eta 0:00:01\r\u001b[K     |██████▋                         | 266 kB 6.6 MB/s eta 0:00:01\r\u001b[K     |██████▉                         | 276 kB 6.6 MB/s eta 0:00:01\r\u001b[K     |███████▏                        | 286 kB 6.6 MB/s eta 0:00:01\r\u001b[K     |███████▍                        | 296 kB 6.6 MB/s eta 0:00:01\r\u001b[K     |███████▋                        | 307 kB 6.6 MB/s eta 0:00:01\r\u001b[K     |████████                        | 317 kB 6.6 MB/s eta 0:00:01\r\u001b[K     |████████▏                       | 327 kB 6.6 MB/s eta 0:00:01\r\u001b[K     |████████▍                       | 337 kB 6.6 MB/s eta 0:00:01\r\u001b[K     |████████▋                       | 348 kB 6.6 MB/s eta 0:00:01\r\u001b[K     |█████████                       | 358 kB 6.6 MB/s eta 0:00:01\r\u001b[K     |█████████▏                      | 368 kB 6.6 MB/s eta 0:00:01\r\u001b[K     |█████████▍                      | 378 kB 6.6 MB/s eta 0:00:01\r\u001b[K     |█████████▊                      | 389 kB 6.6 MB/s eta 0:00:01\r\u001b[K     |██████████                      | 399 kB 6.6 MB/s eta 0:00:01\r\u001b[K     |██████████▏                     | 409 kB 6.6 MB/s eta 0:00:01\r\u001b[K     |██████████▍                     | 419 kB 6.6 MB/s eta 0:00:01\r\u001b[K     |██████████▊                     | 430 kB 6.6 MB/s eta 0:00:01\r\u001b[K     |███████████                     | 440 kB 6.6 MB/s eta 0:00:01\r\u001b[K     |███████████▏                    | 450 kB 6.6 MB/s eta 0:00:01\r\u001b[K     |███████████▌                    | 460 kB 6.6 MB/s eta 0:00:01\r\u001b[K     |███████████▊                    | 471 kB 6.6 MB/s eta 0:00:01\r\u001b[K     |████████████                    | 481 kB 6.6 MB/s eta 0:00:01\r\u001b[K     |████████████▏                   | 491 kB 6.6 MB/s eta 0:00:01\r\u001b[K     |████████████▌                   | 501 kB 6.6 MB/s eta 0:00:01\r\u001b[K     |████████████▊                   | 512 kB 6.6 MB/s eta 0:00:01\r\u001b[K     |█████████████                   | 522 kB 6.6 MB/s eta 0:00:01\r\u001b[K     |█████████████▎                  | 532 kB 6.6 MB/s eta 0:00:01\r\u001b[K     |█████████████▌                  | 542 kB 6.6 MB/s eta 0:00:01\r\u001b[K     |█████████████▊                  | 552 kB 6.6 MB/s eta 0:00:01\r\u001b[K     |██████████████                  | 563 kB 6.6 MB/s eta 0:00:01\r\u001b[K     |██████████████▎                 | 573 kB 6.6 MB/s eta 0:00:01\r\u001b[K     |██████████████▌                 | 583 kB 6.6 MB/s eta 0:00:01\r\u001b[K     |██████████████▊                 | 593 kB 6.6 MB/s eta 0:00:01\r\u001b[K     |███████████████                 | 604 kB 6.6 MB/s eta 0:00:01\r\u001b[K     |███████████████▎                | 614 kB 6.6 MB/s eta 0:00:01\r\u001b[K     |███████████████▌                | 624 kB 6.6 MB/s eta 0:00:01\r\u001b[K     |███████████████▉                | 634 kB 6.6 MB/s eta 0:00:01\r\u001b[K     |████████████████                | 645 kB 6.6 MB/s eta 0:00:01\r\u001b[K     |████████████████▎               | 655 kB 6.6 MB/s eta 0:00:01\r\u001b[K     |████████████████▌               | 665 kB 6.6 MB/s eta 0:00:01\r\u001b[K     |████████████████▉               | 675 kB 6.6 MB/s eta 0:00:01\r\u001b[K     |█████████████████               | 686 kB 6.6 MB/s eta 0:00:01\r\u001b[K     |█████████████████▎              | 696 kB 6.6 MB/s eta 0:00:01\r\u001b[K     |█████████████████▋              | 706 kB 6.6 MB/s eta 0:00:01\r\u001b[K     |█████████████████▉              | 716 kB 6.6 MB/s eta 0:00:01\r\u001b[K     |██████████████████              | 727 kB 6.6 MB/s eta 0:00:01\r\u001b[K     |██████████████████▎             | 737 kB 6.6 MB/s eta 0:00:01\r\u001b[K     |██████████████████▋             | 747 kB 6.6 MB/s eta 0:00:01\r\u001b[K     |██████████████████▉             | 757 kB 6.6 MB/s eta 0:00:01\r\u001b[K     |███████████████████             | 768 kB 6.6 MB/s eta 0:00:01\r\u001b[K     |███████████████████▍            | 778 kB 6.6 MB/s eta 0:00:01\r\u001b[K     |███████████████████▋            | 788 kB 6.6 MB/s eta 0:00:01\r\u001b[K     |███████████████████▉            | 798 kB 6.6 MB/s eta 0:00:01\r\u001b[K     |████████████████████            | 808 kB 6.6 MB/s eta 0:00:01\r\u001b[K     |████████████████████▍           | 819 kB 6.6 MB/s eta 0:00:01\r\u001b[K     |████████████████████▋           | 829 kB 6.6 MB/s eta 0:00:01\r\u001b[K     |████████████████████▉           | 839 kB 6.6 MB/s eta 0:00:01\r\u001b[K     |█████████████████████▏          | 849 kB 6.6 MB/s eta 0:00:01\r\u001b[K     |█████████████████████▍          | 860 kB 6.6 MB/s eta 0:00:01\r\u001b[K     |█████████████████████▋          | 870 kB 6.6 MB/s eta 0:00:01\r\u001b[K     |██████████████████████          | 880 kB 6.6 MB/s eta 0:00:01\r\u001b[K     |██████████████████████▏         | 890 kB 6.6 MB/s eta 0:00:01\r\u001b[K     |██████████████████████▍         | 901 kB 6.6 MB/s eta 0:00:01\r\u001b[K     |██████████████████████▋         | 911 kB 6.6 MB/s eta 0:00:01\r\u001b[K     |███████████████████████         | 921 kB 6.6 MB/s eta 0:00:01\r\u001b[K     |███████████████████████▏        | 931 kB 6.6 MB/s eta 0:00:01\r\u001b[K     |███████████████████████▍        | 942 kB 6.6 MB/s eta 0:00:01\r\u001b[K     |███████████████████████▊        | 952 kB 6.6 MB/s eta 0:00:01\r\u001b[K     |████████████████████████        | 962 kB 6.6 MB/s eta 0:00:01\r\u001b[K     |████████████████████████▏       | 972 kB 6.6 MB/s eta 0:00:01\r\u001b[K     |████████████████████████▍       | 983 kB 6.6 MB/s eta 0:00:01\r\u001b[K     |████████████████████████▊       | 993 kB 6.6 MB/s eta 0:00:01\r\u001b[K     |█████████████████████████       | 1.0 MB 6.6 MB/s eta 0:00:01\r\u001b[K     |█████████████████████████▏      | 1.0 MB 6.6 MB/s eta 0:00:01\r\u001b[K     |█████████████████████████▌      | 1.0 MB 6.6 MB/s eta 0:00:01\r\u001b[K     |█████████████████████████▊      | 1.0 MB 6.6 MB/s eta 0:00:01\r\u001b[K     |██████████████████████████      | 1.0 MB 6.6 MB/s eta 0:00:01\r\u001b[K     |██████████████████████████▏     | 1.1 MB 6.6 MB/s eta 0:00:01\r\u001b[K     |██████████████████████████▌     | 1.1 MB 6.6 MB/s eta 0:00:01\r\u001b[K     |██████████████████████████▊     | 1.1 MB 6.6 MB/s eta 0:00:01\r\u001b[K     |███████████████████████████     | 1.1 MB 6.6 MB/s eta 0:00:01\r\u001b[K     |███████████████████████████▎    | 1.1 MB 6.6 MB/s eta 0:00:01\r\u001b[K     |███████████████████████████▌    | 1.1 MB 6.6 MB/s eta 0:00:01\r\u001b[K     |███████████████████████████▊    | 1.1 MB 6.6 MB/s eta 0:00:01\r\u001b[K     |████████████████████████████    | 1.1 MB 6.6 MB/s eta 0:00:01\r\u001b[K     |████████████████████████████▎   | 1.1 MB 6.6 MB/s eta 0:00:01\r\u001b[K     |████████████████████████████▌   | 1.1 MB 6.6 MB/s eta 0:00:01\r\u001b[K     |████████████████████████████▊   | 1.2 MB 6.6 MB/s eta 0:00:01\r\u001b[K     |█████████████████████████████   | 1.2 MB 6.6 MB/s eta 0:00:01\r\u001b[K     |█████████████████████████████▎  | 1.2 MB 6.6 MB/s eta 0:00:01\r\u001b[K     |█████████████████████████████▌  | 1.2 MB 6.6 MB/s eta 0:00:01\r\u001b[K     |█████████████████████████████▉  | 1.2 MB 6.6 MB/s eta 0:00:01\r\u001b[K     |██████████████████████████████  | 1.2 MB 6.6 MB/s eta 0:00:01\r\u001b[K     |██████████████████████████████▎ | 1.2 MB 6.6 MB/s eta 0:00:01\r\u001b[K     |██████████████████████████████▌ | 1.2 MB 6.6 MB/s eta 0:00:01\r\u001b[K     |██████████████████████████████▉ | 1.2 MB 6.6 MB/s eta 0:00:01\r\u001b[K     |███████████████████████████████ | 1.2 MB 6.6 MB/s eta 0:00:01\r\u001b[K     |███████████████████████████████▎| 1.3 MB 6.6 MB/s eta 0:00:01\r\u001b[K     |███████████████████████████████▋| 1.3 MB 6.6 MB/s eta 0:00:01\r\u001b[K     |███████████████████████████████▉| 1.3 MB 6.6 MB/s eta 0:00:01\r\u001b[K     |████████████████████████████████| 1.3 MB 6.6 MB/s \n",
            "\u001b[?25hRequirement already satisfied: absl-py>=0.6.1 in /usr/local/lib/python3.7/dist-packages (from tf-agents) (0.12.0)\n",
            "Requirement already satisfied: pillow in /usr/local/lib/python3.7/dist-packages (from tf-agents) (7.1.2)\n",
            "Requirement already satisfied: typing-extensions>=3.7.4.3 in /usr/local/lib/python3.7/dist-packages (from tf-agents) (3.7.4.3)\n",
            "Requirement already satisfied: protobuf>=3.11.3 in /usr/local/lib/python3.7/dist-packages (from tf-agents) (3.17.3)\n",
            "Requirement already satisfied: tensorflow-probability>=0.13.0 in /usr/local/lib/python3.7/dist-packages (from tf-agents) (0.14.1)\n",
            "Requirement already satisfied: wrapt>=1.11.1 in /usr/local/lib/python3.7/dist-packages (from tf-agents) (1.12.1)\n",
            "Requirement already satisfied: six>=1.10.0 in /usr/local/lib/python3.7/dist-packages (from tf-agents) (1.15.0)\n",
            "Requirement already satisfied: cloudpickle>=1.3 in /usr/local/lib/python3.7/dist-packages (from tf-agents) (1.3.0)\n",
            "Requirement already satisfied: gin-config>=0.4.0 in /usr/local/lib/python3.7/dist-packages (from tf-agents) (0.4.0)\n",
            "Requirement already satisfied: numpy>=1.13.3 in /usr/local/lib/python3.7/dist-packages (from tf-agents) (1.19.5)\n",
            "Requirement already satisfied: gym>=0.17.0 in /usr/local/lib/python3.7/dist-packages (from tf-agents) (0.17.3)\n",
            "Requirement already satisfied: scipy in /usr/local/lib/python3.7/dist-packages (from gym>=0.17.0->tf-agents) (1.4.1)\n",
            "Requirement already satisfied: pyglet<=1.5.0,>=1.4.0 in /usr/local/lib/python3.7/dist-packages (from gym>=0.17.0->tf-agents) (1.5.0)\n",
            "Requirement already satisfied: future in /usr/local/lib/python3.7/dist-packages (from pyglet<=1.5.0,>=1.4.0->gym>=0.17.0->tf-agents) (0.16.0)\n",
            "Requirement already satisfied: gast>=0.3.2 in /usr/local/lib/python3.7/dist-packages (from tensorflow-probability>=0.13.0->tf-agents) (0.4.0)\n",
            "Requirement already satisfied: decorator in /usr/local/lib/python3.7/dist-packages (from tensorflow-probability>=0.13.0->tf-agents) (4.4.2)\n",
            "Requirement already satisfied: dm-tree in /usr/local/lib/python3.7/dist-packages (from tensorflow-probability>=0.13.0->tf-agents) (0.1.6)\n",
            "Installing collected packages: tf-agents\n",
            "Successfully installed tf-agents-0.10.0\n"
          ]
        }
      ]
    },
    {
      "cell_type": "code",
      "metadata": {
        "id": "iCOZyrdEZEFc"
      },
      "source": [
        "from __future__ import absolute_import\n",
        "from __future__ import division\n",
        "from __future__ import print_function\n",
        "\n",
        "import abc\n",
        "import tensorflow as tf\n",
        "import numpy as np\n",
        "\n",
        "from tf_agents.environments import py_environment\n",
        "from tf_agents.environments import tf_environment\n",
        "from tf_agents.environments import tf_py_environment\n",
        "from tf_agents.environments import utils\n",
        "from tf_agents.specs import array_spec\n",
        "from tf_agents.environments import wrappers\n",
        "from tf_agents.environments import suite_gym\n",
        "from tf_agents.trajectories import time_step as ts"
      ],
      "execution_count": 2,
      "outputs": []
    },
    {
      "cell_type": "code",
      "metadata": {
        "colab": {
          "base_uri": "https://localhost:8080/"
        },
        "id": "P4ueuXXzZLuj",
        "outputId": "92521eeb-5222-4518-b21a-f3dbce5909dc"
      },
      "source": [
        "environment = suite_gym.load('CartPole-v0')\n",
        "print('action_spec:', environment.action_spec())\n",
        "print('time_step_spec.observation:', environment.time_step_spec().observation)\n",
        "print('time_step_spec.step_type:', environment.time_step_spec().step_type)\n",
        "print('time_step_spec.discount:', environment.time_step_spec().discount)\n",
        "print('time_step_spec.reward:', environment.time_step_spec().reward)"
      ],
      "execution_count": 3,
      "outputs": [
        {
          "output_type": "stream",
          "name": "stdout",
          "text": [
            "action_spec: BoundedArraySpec(shape=(), dtype=dtype('int64'), name='action', minimum=0, maximum=1)\n",
            "time_step_spec.observation: BoundedArraySpec(shape=(4,), dtype=dtype('float32'), name='observation', minimum=[-4.8000002e+00 -3.4028235e+38 -4.1887903e-01 -3.4028235e+38], maximum=[4.8000002e+00 3.4028235e+38 4.1887903e-01 3.4028235e+38])\n",
            "time_step_spec.step_type: ArraySpec(shape=(), dtype=dtype('int32'), name='step_type')\n",
            "time_step_spec.discount: BoundedArraySpec(shape=(), dtype=dtype('float32'), name='discount', minimum=0.0, maximum=1.0)\n",
            "time_step_spec.reward: ArraySpec(shape=(), dtype=dtype('float32'), name='reward')\n"
          ]
        }
      ]
    },
    {
      "cell_type": "code",
      "metadata": {
        "id": "CCwRZmcvaV8V"
      },
      "source": [
        "class CardGameEnv(py_environment.PyEnvironment):\n",
        "\n",
        "  def __init__(self):\n",
        "    self._action_spec = array_spec.BoundedArraySpec(\n",
        "        shape=(), dtype=np.int32, minimum=0, maximum=1, name='action')\n",
        "    self._observation_spec = array_spec.BoundedArraySpec(\n",
        "        shape=(1,), dtype=np.int32, minimum=0, name='observation')\n",
        "    self._state = 0\n",
        "    self._episode_ended = False\n",
        "\n",
        "  def action_spec(self):\n",
        "    return self._action_spec\n",
        "\n",
        "  def observation_spec(self):\n",
        "    return self._observation_spec\n",
        "\n",
        "  def _reset(self):\n",
        "    self._state = 0\n",
        "    self._episode_ended = False\n",
        "    return ts.restart(np.array([self._state], dtype=np.int32))\n",
        "\n",
        "  def _step(self, action):\n",
        "\n",
        "    if self._episode_ended:\n",
        "      # The last action ended the episode. Ignore the current action and start\n",
        "      # a new episode.\n",
        "      return self.reset()\n",
        "\n",
        "    # Make sure episodes don't go on forever.\n",
        "    if action == 1:\n",
        "      self._episode_ended = True\n",
        "    elif action == 0:\n",
        "      new_card = np.random.randint(1, 11)\n",
        "      self._state += new_card\n",
        "    else:\n",
        "      raise ValueError('`action` should be 0 or 1.')\n",
        "\n",
        "    if self._episode_ended or self._state >= 21:\n",
        "      reward = self._state - 21 if self._state <= 21 else -21\n",
        "      return ts.termination(np.array([self._state], dtype=np.int32), reward)\n",
        "    else:\n",
        "      return ts.transition(\n",
        "          np.array([self._state], dtype=np.int32), reward=0.0, discount=1.0)"
      ],
      "execution_count": 4,
      "outputs": []
    },
    {
      "cell_type": "code",
      "metadata": {
        "id": "GdAlwh7NbCRU"
      },
      "source": [
        "environment = CardGameEnv()\n",
        "utils.validate_py_environment(environment, episodes=5)"
      ],
      "execution_count": 5,
      "outputs": []
    },
    {
      "cell_type": "code",
      "metadata": {
        "colab": {
          "base_uri": "https://localhost:8080/"
        },
        "id": "h9kxAJrqcZlG",
        "outputId": "073ce0b7-ff73-4fdd-98f3-61f70b438459"
      },
      "source": [
        "get_new_card_action = np.array(0, dtype=np.int32)\n",
        "end_round_action = np.array(1, dtype=np.int32)\n",
        "\n",
        "environment = CardGameEnv()\n",
        "time_step = environment.reset()\n",
        "print(time_step)\n",
        "cumulative_reward = time_step.reward\n",
        "\n",
        "for _ in range(3):\n",
        "  time_step = environment.step(get_new_card_action)\n",
        "  print(time_step)\n",
        "  cumulative_reward += time_step.reward\n",
        "\n",
        "time_step = environment.step(end_round_action)\n",
        "print(time_step)\n",
        "cumulative_reward += time_step.reward\n",
        "print('Final Reward = ', cumulative_reward)"
      ],
      "execution_count": 10,
      "outputs": [
        {
          "output_type": "stream",
          "name": "stdout",
          "text": [
            "TimeStep(\n",
            "{'discount': array(1., dtype=float32),\n",
            " 'observation': array([0], dtype=int32),\n",
            " 'reward': array(0., dtype=float32),\n",
            " 'step_type': array(0, dtype=int32)})\n",
            "TimeStep(\n",
            "{'discount': array(1., dtype=float32),\n",
            " 'observation': array([1], dtype=int32),\n",
            " 'reward': array(0., dtype=float32),\n",
            " 'step_type': array(1, dtype=int32)})\n",
            "TimeStep(\n",
            "{'discount': array(1., dtype=float32),\n",
            " 'observation': array([5], dtype=int32),\n",
            " 'reward': array(0., dtype=float32),\n",
            " 'step_type': array(1, dtype=int32)})\n",
            "TimeStep(\n",
            "{'discount': array(1., dtype=float32),\n",
            " 'observation': array([10], dtype=int32),\n",
            " 'reward': array(0., dtype=float32),\n",
            " 'step_type': array(1, dtype=int32)})\n",
            "TimeStep(\n",
            "{'discount': array(0., dtype=float32),\n",
            " 'observation': array([10], dtype=int32),\n",
            " 'reward': array(-11., dtype=float32),\n",
            " 'step_type': array(2, dtype=int32)})\n",
            "Final Reward =  -11.0\n"
          ]
        }
      ]
    },
    {
      "cell_type": "code",
      "metadata": {
        "id": "V-m4Q3ZodZh6"
      },
      "source": [
        ""
      ],
      "execution_count": null,
      "outputs": []
    }
  ]
}